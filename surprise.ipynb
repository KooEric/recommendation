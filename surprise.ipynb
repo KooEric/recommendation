{
 "cells": [
  {
   "cell_type": "code",
   "execution_count": 2,
   "metadata": {
    "collapsed": true
   },
   "outputs": [
    {
     "name": "stdout",
     "output_type": "stream",
     "text": [
      "Collecting surprise\r\n",
      "  Using cached surprise-0.1-py2.py3-none-any.whl (1.8 kB)\r\n",
      "Collecting scikit-surprise\r\n",
      "  Using cached scikit-surprise-1.1.2.tar.gz (770 kB)\r\n",
      "Requirement already satisfied: joblib>=1.0.0 in /Users/yhkoo/miniforge3/envs/deepLearning/lib/python3.8/site-packages (from scikit-surprise->surprise) (1.1.0)\r\n",
      "Requirement already satisfied: numpy>=1.17.3 in /Users/yhkoo/miniforge3/envs/deepLearning/lib/python3.8/site-packages (from scikit-surprise->surprise) (1.21.5)\r\n",
      "Requirement already satisfied: scipy>=1.3.2 in /Users/yhkoo/miniforge3/envs/deepLearning/lib/python3.8/site-packages (from scikit-surprise->surprise) (1.8.0)\r\n",
      "Building wheels for collected packages: scikit-surprise\r\n",
      "  Building wheel for scikit-surprise (setup.py) ... \u001B[?25ldone\r\n",
      "\u001B[?25h  Created wheel for scikit-surprise: filename=scikit_surprise-1.1.2-cp38-cp38-macosx_11_0_arm64.whl size=1121521 sha256=3d1c8f36b5790d0ee02bf5e533c5dbd0fcdb19858205f6d8db71061f251c51c4\r\n",
      "  Stored in directory: /Users/yhkoo/Library/Caches/pip/wheels/84/db/01/e091aba3636e084d8ad84e26240dbbfe15134e207d1ed23bcf\r\n",
      "Successfully built scikit-surprise\r\n",
      "Installing collected packages: scikit-surprise, surprise\r\n",
      "Successfully installed scikit-surprise-1.1.2 surprise-0.1\r\n",
      "\u001B[33mWARNING: You are using pip version 22.0.4; however, version 22.2.2 is available.\r\n",
      "You should consider upgrading via the '/Users/yhkoo/miniforge3/envs/deepLearning/bin/python -m pip install --upgrade pip' command.\u001B[0m\r\n"
     ]
    }
   ],
   "source": [
    "!pip install surprise"
   ]
  },
  {
   "cell_type": "code",
   "execution_count": 3,
   "outputs": [],
   "source": [
    "# 추천시스템을 위한 surprise 패키지 임포트\n",
    "from surprise import SVD\n",
    "from surprise import Dataset\n",
    "from surprise import accuracy\n",
    "from surprise.model_selection import train_test_split"
   ],
   "metadata": {
    "collapsed": false,
    "pycharm": {
     "name": "#%%\n"
    }
   }
  },
  {
   "cell_type": "code",
   "execution_count": 4,
   "outputs": [
    {
     "name": "stdout",
     "output_type": "stream",
     "text": [
      "Dataset ml-100k could not be found. Do you want to download it? [Y/n] Dataset ml-100k could not be found. Do you want to download it? [Y/n] Trying to download dataset from https://files.grouplens.org/datasets/movielens/ml-100k.zip...\n",
      "Done! Dataset ml-100k has been saved to /Users/yhkoo/.surprise_data/ml-100k\n",
      "type--\n",
      " <class 'list'>\n",
      "len--\n",
      " 25\n",
      "value--\n",
      " [('699', '234', 3.0), ('387', '176', 3.0), ('293', '443', 4.0), ('932', '855', 5.0), ('212', '511', 4.0), ('135', '77', 4.0), ('194', '623', 1.0), ('764', '673', 4.0), ('393', '125', 4.0), ('860', '690', 4.0), ('453', '188', 4.0), ('495', '151', 5.0), ('653', '53', 2.0), ('60', '15', 4.0), ('896', '660', 5.0), ('592', '1022', 5.0), ('283', '151', 4.0), ('758', '411', 4.0), ('503', '116', 5.0), ('844', '597', 3.0), ('653', '746', 5.0), ('346', '182', 5.0), ('474', '13', 5.0), ('634', '293', 3.0), ('901', '739', 5.0)]\n",
      "value top5--\n",
      " [('699', '234', 3.0), ('387', '176', 3.0), ('293', '443', 4.0), ('932', '855', 5.0), ('212', '511', 4.0)]\n"
     ]
    }
   ],
   "source": [
    "# 무비데이터 렌즈 로드\n",
    "data = Dataset.load_builtin('ml-100k')\n",
    "\n",
    "# data 중 test를 25% 설정, random_state=0의 경우 test 25개를 고정된 값을 가져오라는 뜻\n",
    "trainset, testset = train_test_split(data, test_size=25, random_state=52)\n",
    "\n",
    "# data 확인(타입, 길이, 값, top)\n",
    "print('type--\\n', type(testset))\n",
    "print('len--\\n',len(testset))\n",
    "print('value--\\n',testset)\n",
    "print('value top5--\\n',testset[:5])"
   ],
   "metadata": {
    "collapsed": false,
    "pycharm": {
     "name": "#%%\n"
    }
   }
  },
  {
   "cell_type": "markdown",
   "source": [
    "## SVD()로 알고리즘 객체를 생성한 후 train 데이터를 이용하여 알고리즘을 학습\n",
    "test()와 predict() 메서드를 이용하여 데이터 전체에 대해 추천을 예측\n",
    "* test(): 사용자-아이템 평점 데이터 세트 전체에 대해서 추천을 예측하는 메서드. 즉 입력된 데이터 세트에 대해 추천 데이터 세트 만듦.\n",
    "* predict(): 개별 사용자와 영화에 대한 추천 평점을 반환."
   ],
   "metadata": {
    "collapsed": false
   }
  },
  {
   "cell_type": "code",
   "execution_count": 5,
   "outputs": [
    {
     "name": "stdout",
     "output_type": "stream",
     "text": [
      "Prediction type: <class 'list'>  size:  25\n",
      "[Prediction(uid='699', iid='234', r_ui=3.0, est=3.3776769867102026, details={'was_impossible': False}), Prediction(uid='387', iid='176', r_ui=3.0, est=4.327103202289851, details={'was_impossible': False}), Prediction(uid='293', iid='443', r_ui=4.0, est=4.009084511972993, details={'was_impossible': False}), Prediction(uid='932', iid='855', r_ui=5.0, est=3.9204817853454696, details={'was_impossible': False}), Prediction(uid='212', iid='511', r_ui=4.0, est=4.017994290334056, details={'was_impossible': False})]\n",
      "[Prediction(uid='699', iid='234', r_ui=3.0, est=3.3776769867102026, details={'was_impossible': False})]\n",
      "699\n",
      "234\n",
      "3.3776769867102026\n"
     ]
    }
   ],
   "source": [
    "# SVD(Singular Value Decomposition), 잠재 요인 협업 필터링(Latent Factor)을 수행\n",
    "\n",
    "svd = SVD()\n",
    "svd.fit(trainset)\n",
    "predictions = svd.test(testset)\n",
    "\n",
    "print('Prediction type:', type(predictions), ' size: ', len(predictions))\n",
    "# 예측값 print\n",
    "print(predictions[:5])\n",
    "print(predictions[:1])\n",
    "print(predictions[0].uid)\n",
    "print(predictions[0].iid)\n",
    "print(predictions[0].est)"
   ],
   "metadata": {
    "collapsed": false,
    "pycharm": {
     "name": "#%%\n"
    }
   }
  },
  {
   "cell_type": "code",
   "execution_count": 6,
   "outputs": [
    {
     "name": "stdout",
     "output_type": "stream",
     "text": [
      "user: 699        item: 234        r_ui = None   est = 3.38   {'was_impossible': False}\n"
     ]
    }
   ],
   "source": [
    "# predict() 메서드를 이용해 추천 예측\n",
    "# predict() 메서드에 uid(아이디), iid(영화코드 아이디) 값을 입력\n",
    "uid = str(699)\n",
    "iid = str(234)\n",
    "pred = svd.predict(uid, iid)\n",
    "print(pred)"
   ],
   "metadata": {
    "collapsed": false,
    "pycharm": {
     "name": "#%%\n"
    }
   }
  },
  {
   "cell_type": "code",
   "execution_count": 7,
   "outputs": [
    {
     "name": "stdout",
     "output_type": "stream",
     "text": [
      "RMSE: 1.0503\n"
     ]
    }
   ],
   "source": [
    "#모델의 정확성을 확인하기 위해 surprise의 rmse()을 이용\n",
    "pred_accuracy = accuracy.rmse(predictions)"
   ],
   "metadata": {
    "collapsed": false,
    "pycharm": {
     "name": "#%%\n"
    }
   }
  },
  {
   "cell_type": "code",
   "execution_count": null,
   "outputs": [],
   "source": [],
   "metadata": {
    "collapsed": false,
    "pycharm": {
     "name": "#%%\n"
    }
   }
  }
 ],
 "metadata": {
  "kernelspec": {
   "display_name": "Python 3",
   "language": "python",
   "name": "python3"
  },
  "language_info": {
   "codemirror_mode": {
    "name": "ipython",
    "version": 2
   },
   "file_extension": ".py",
   "mimetype": "text/x-python",
   "name": "python",
   "nbconvert_exporter": "python",
   "pygments_lexer": "ipython2",
   "version": "2.7.6"
  }
 },
 "nbformat": 4,
 "nbformat_minor": 0
}